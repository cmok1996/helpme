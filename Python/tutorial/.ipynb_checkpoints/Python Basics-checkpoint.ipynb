{
 "cells": [
  {
   "cell_type": "markdown",
   "metadata": {},
   "source": [
    "# Basics"
   ]
  },
  {
   "cell_type": "markdown",
   "metadata": {},
   "source": [
    "## Variables"
   ]
  },
  {
   "cell_type": "code",
   "execution_count": 15,
   "metadata": {},
   "outputs": [
    {
     "name": "stdout",
     "output_type": "stream",
     "text": [
      "<class 'tuple'>\n"
     ]
    }
   ],
   "source": [
    "x = 1 #int\n",
    "y = 1.0 #float\n",
    "name = 'Chris' #string\n",
    "is_cool = True #Boolean\n",
    "fruits_list = ['apple', 'orange', 'pear'] #list\n",
    "fruits_set = {'apple', 'orange', 'pear'} #set\n",
    "fruits_tuple = ('apple', 'orange', 'pear') #tuple\n",
    "fruits_dict = {'Apple' : 2 , 'Orange' : 5, \"Pear\" : 7} #dictionary\n",
    "print(type(fruits_tuple))"
   ]
  },
  {
   "cell_type": "code",
   "execution_count": 68,
   "metadata": {},
   "outputs": [
    {
     "name": "stdout",
     "output_type": "stream",
     "text": [
      "8\n",
      "15\n",
      "5.0\n",
      "1\n",
      "9\n",
      "1.7320508075688772\n"
     ]
    }
   ],
   "source": [
    "#Maths operations\n",
    "print(3 + 5)\n",
    "print(3 * 5)\n",
    "print(15 / 3)\n",
    "print(15 % 7)\n",
    "print(3 ** 2)\n",
    "print(3 ** 0.5)"
   ]
  },
  {
   "cell_type": "code",
   "execution_count": 109,
   "metadata": {},
   "outputs": [
    {
     "name": "stdout",
     "output_type": "stream",
     "text": [
      "10\n",
      "10\n"
     ]
    }
   ],
   "source": [
    "m = 5\n",
    "m = m + 5\n",
    "print(m)\n",
    "n = 5\n",
    "n += 5\n",
    "print(n)"
   ]
  },
  {
   "cell_type": "markdown",
   "metadata": {},
   "source": [
    "## Strings"
   ]
  },
  {
   "cell_type": "code",
   "execution_count": 1,
   "metadata": {},
   "outputs": [
    {
     "name": "stdout",
     "output_type": "stream",
     "text": [
      "Hello World\n"
     ]
    }
   ],
   "source": [
    "print('Hello World')"
   ]
  },
  {
   "cell_type": "code",
   "execution_count": 18,
   "metadata": {},
   "outputs": [
    {
     "name": "stdout",
     "output_type": "stream",
     "text": [
      "Hello World\n",
      "<class 'str'>\n"
     ]
    }
   ],
   "source": [
    "a = 'Hello World'\n",
    "b = str(1) \n",
    "print(a)\n",
    "print(type(b))"
   ]
  },
  {
   "cell_type": "code",
   "execution_count": 6,
   "metadata": {},
   "outputs": [
    {
     "name": "stdout",
     "output_type": "stream",
     "text": [
      "H\n",
      "Hello\n",
      "Hello World\n",
      "Hello Worl\n",
      "d\n"
     ]
    }
   ],
   "source": [
    "#Strings can be sliced\n",
    "print(a[0])\n",
    "print(a[0:5])\n",
    "print(a[:])\n",
    "print(a[:-1])\n",
    "print(a[-1:])"
   ]
  },
  {
   "cell_type": "code",
   "execution_count": 7,
   "metadata": {},
   "outputs": [
    {
     "name": "stdout",
     "output_type": "stream",
     "text": [
      "<class 'list'>\n",
      "['Hello', 'World']\n"
     ]
    }
   ],
   "source": [
    "c = a.split(' ')\n",
    "print(type(c))\n",
    "print(c)"
   ]
  },
  {
   "cell_type": "code",
   "execution_count": 25,
   "metadata": {},
   "outputs": [
    {
     "name": "stdout",
     "output_type": "stream",
     "text": [
      "Hello Chris, your age is 24\n",
      "Hello Chris, your age is 24\n"
     ]
    }
   ],
   "source": [
    "# String formatting\n",
    "name = 'Chris'\n",
    "age = 24\n",
    "message = f'Hello {name}, your age is {age}'\n",
    "print(message)\n",
    "print('Hello '+name + ', your age is '+str(age))"
   ]
  },
  {
   "cell_type": "code",
   "execution_count": 30,
   "metadata": {},
   "outputs": [
    {
     "name": "stdout",
     "output_type": "stream",
     "text": [
      "HELLO WORLD\n",
      "hello world\n",
      "11\n",
      "Hello Chris\n",
      "3\n"
     ]
    }
   ],
   "source": [
    "#Other methods\n",
    "print(a.upper())\n",
    "print(a.lower())\n",
    "print(len(a))\n",
    "print(a.replace('World', str(name)))\n",
    "sub = 'l'\n",
    "print(a.count(sub))"
   ]
  },
  {
   "cell_type": "markdown",
   "metadata": {},
   "source": [
    "## List - Collection which is ordered and mutable"
   ]
  },
  {
   "cell_type": "code",
   "execution_count": 38,
   "metadata": {},
   "outputs": [
    {
     "name": "stdout",
     "output_type": "stream",
     "text": [
      "['Apple', 'Pear', 'Orange']\n",
      "['Apple', 'Pear', 'Orange']\n"
     ]
    }
   ],
   "source": [
    "fruits1 = ['Apple', 'Pear', 'Orange']\n",
    "fruits2 = list(('Apple', 'Pear', 'Orange'))\n",
    "print(fruits1)\n",
    "print(fruits2)"
   ]
  },
  {
   "cell_type": "code",
   "execution_count": 40,
   "metadata": {},
   "outputs": [
    {
     "name": "stdout",
     "output_type": "stream",
     "text": [
      "3\n"
     ]
    }
   ],
   "source": [
    "print(len(fruits1))"
   ]
  },
  {
   "cell_type": "code",
   "execution_count": 210,
   "metadata": {},
   "outputs": [
    {
     "name": "stdout",
     "output_type": "stream",
     "text": [
      "Apple\n",
      "<class 'str'>\n",
      "APPLE\n",
      "Orange\n"
     ]
    }
   ],
   "source": [
    "print(fruits1[0])\n",
    "print(type(fruits1[0]))\n",
    "print(fruits1[0].upper())\n",
    "print(fruits[-1])"
   ]
  },
  {
   "cell_type": "code",
   "execution_count": 44,
   "metadata": {},
   "outputs": [
    {
     "name": "stdout",
     "output_type": "stream",
     "text": [
      "['Apple', 'Pear', 'Orange', 'Strawberry']\n"
     ]
    }
   ],
   "source": [
    "fruits1.append('Strawberry')\n",
    "print(fruits1)"
   ]
  },
  {
   "cell_type": "code",
   "execution_count": 45,
   "metadata": {},
   "outputs": [
    {
     "name": "stdout",
     "output_type": "stream",
     "text": [
      "['Pear', 'Orange', 'Strawberry']\n"
     ]
    }
   ],
   "source": [
    "fruits1.remove('Apple')\n",
    "print(fruits1)"
   ]
  },
  {
   "cell_type": "code",
   "execution_count": 46,
   "metadata": {},
   "outputs": [
    {
     "name": "stdout",
     "output_type": "stream",
     "text": [
      "['Apple', 'Pear', 'Orange']\n"
     ]
    }
   ],
   "source": [
    "fruits1.insert(0, 'Apple')\n",
    "fruits1.pop(3)\n",
    "print(fruits1)"
   ]
  },
  {
   "cell_type": "code",
   "execution_count": 177,
   "metadata": {},
   "outputs": [
    {
     "name": "stdout",
     "output_type": "stream",
     "text": [
      "APPLE\n",
      "ORANGE\n",
      "PEAR\n"
     ]
    }
   ],
   "source": [
    "#For loop by accessing each element in the list\n",
    "for i in fruits1 :\n",
    "    print(i.upper())"
   ]
  },
  {
   "cell_type": "code",
   "execution_count": 180,
   "metadata": {},
   "outputs": [
    {
     "name": "stdout",
     "output_type": "stream",
     "text": [
      "APPLE\n",
      "ORANGE\n",
      "PEAR\n"
     ]
    }
   ],
   "source": [
    "#For loop by accessing each index in the list\n",
    "for i in range(len(fruits1)) :\n",
    "    print(fruits1[i].upper())"
   ]
  },
  {
   "cell_type": "code",
   "execution_count": 58,
   "metadata": {},
   "outputs": [
    {
     "name": "stdout",
     "output_type": "stream",
     "text": [
      "['APPLE', 'ORANGE', 'PEAR']\n"
     ]
    }
   ],
   "source": [
    "fruits_cap = []\n",
    "for i in fruits1 :\n",
    "    fruits_cap.append(i.upper())\n",
    "print(fruits_cap)"
   ]
  },
  {
   "cell_type": "code",
   "execution_count": 61,
   "metadata": {},
   "outputs": [
    {
     "name": "stdout",
     "output_type": "stream",
     "text": [
      "['APPLE', 'ORANGE', 'PEAR']\n"
     ]
    }
   ],
   "source": [
    "#List comprehension\n",
    "fruits_cap2 = [fruit.upper() for fruit in fruits1]\n",
    "print(fruits_cap2)"
   ]
  },
  {
   "cell_type": "code",
   "execution_count": 62,
   "metadata": {},
   "outputs": [
    {
     "name": "stdout",
     "output_type": "stream",
     "text": [
      "[1, 4, 9, 16]\n"
     ]
    }
   ],
   "source": [
    "#exercise : want to return the square of elements in numbers list\n",
    "numbers = [1,2,3,4]\n",
    "numbers_squared = [num**2 for num in numbers]\n",
    "print(numbers_squared)"
   ]
  },
  {
   "cell_type": "code",
   "execution_count": 97,
   "metadata": {},
   "outputs": [
    {
     "name": "stdout",
     "output_type": "stream",
     "text": [
      "True\n",
      "False\n"
     ]
    }
   ],
   "source": [
    "#Check if an element is inside a list\n",
    "print('Apple' in fruits1)\n",
    "print('Durian' in fruits1)"
   ]
  },
  {
   "cell_type": "markdown",
   "metadata": {},
   "source": [
    "## Sets - Collection which is unordered and unindexed without duplicates"
   ]
  },
  {
   "cell_type": "code",
   "execution_count": 89,
   "metadata": {},
   "outputs": [
    {
     "name": "stdout",
     "output_type": "stream",
     "text": [
      "['Rice', 'Noodles', 'Chicken', 'Chicken']\n"
     ]
    }
   ],
   "source": [
    "food = ['Rice', 'Noodles', 'Chicken']\n",
    "food.append('Chicken')\n",
    "print(food)"
   ]
  },
  {
   "cell_type": "code",
   "execution_count": 90,
   "metadata": {},
   "outputs": [
    {
     "name": "stdout",
     "output_type": "stream",
     "text": [
      "{'Chicken', 'Noodles', 'Pork', 'Rice'}\n"
     ]
    }
   ],
   "source": [
    "food1 = set(['Rice', 'Noodles', 'Chicken'])\n",
    "food1.add('Pork')\n",
    "print(food1)"
   ]
  },
  {
   "cell_type": "code",
   "execution_count": 91,
   "metadata": {},
   "outputs": [],
   "source": [
    "food1.add('Chicken')"
   ]
  },
  {
   "cell_type": "code",
   "execution_count": 92,
   "metadata": {},
   "outputs": [
    {
     "name": "stdout",
     "output_type": "stream",
     "text": [
      "{'Chicken', 'Noodles', 'Pork', 'Rice'}\n"
     ]
    }
   ],
   "source": [
    "print(food1)"
   ]
  },
  {
   "cell_type": "code",
   "execution_count": 93,
   "metadata": {},
   "outputs": [
    {
     "name": "stdout",
     "output_type": "stream",
     "text": [
      "{'Chicken', 'Noodles', 'Rice'}\n"
     ]
    }
   ],
   "source": [
    "print(set(food))"
   ]
  },
  {
   "cell_type": "code",
   "execution_count": 94,
   "metadata": {},
   "outputs": [
    {
     "name": "stdout",
     "output_type": "stream",
     "text": [
      "False\n",
      "True\n"
     ]
    }
   ],
   "source": [
    "food2 = {'Chicken', 'Noodles', 'Rice', 'Pork'}\n",
    "print(food == food2)\n",
    "print(food1 == food2)"
   ]
  },
  {
   "cell_type": "code",
   "execution_count": 95,
   "metadata": {},
   "outputs": [
    {
     "name": "stdout",
     "output_type": "stream",
     "text": [
      "CHICKEN\n",
      "NOODLES\n",
      "PORK\n",
      "RICE\n"
     ]
    }
   ],
   "source": [
    "#Like lists, sets are also iterable\n",
    "for i in food1 :\n",
    "    print(i.upper())"
   ]
  },
  {
   "cell_type": "code",
   "execution_count": 98,
   "metadata": {},
   "outputs": [
    {
     "data": {
      "text/plain": [
       "True"
      ]
     },
     "execution_count": 98,
     "metadata": {},
     "output_type": "execute_result"
    }
   ],
   "source": [
    "'Chicken' in food"
   ]
  },
  {
   "cell_type": "code",
   "execution_count": 103,
   "metadata": {},
   "outputs": [
    {
     "name": "stdout",
     "output_type": "stream",
     "text": [
      "{'Chicken', 'Pork'}\n",
      "2\n",
      "set()\n",
      "0\n"
     ]
    }
   ],
   "source": [
    "#Intersection between sets\n",
    "meat = {'Chicken', 'Pork', 'Duck'}\n",
    "fruits_set = {'Apple', 'Pear', 'Orange'}\n",
    "print(meat.intersection(food2))\n",
    "print(len(meat.intersection(food2)))\n",
    "print(fruits_set.intersection(food2))\n",
    "print(len(fruits_set.intersection(food2)))"
   ]
  },
  {
   "cell_type": "markdown",
   "metadata": {},
   "source": [
    "## Dictionary - Collection which is unordered, mutable and indexed. No duplicated keys allowed"
   ]
  },
  {
   "cell_type": "code",
   "execution_count": 111,
   "metadata": {},
   "outputs": [
    {
     "name": "stdout",
     "output_type": "stream",
     "text": [
      "<class 'dict'>\n"
     ]
    }
   ],
   "source": [
    "inventory = {'Rice' : 0.5, 'Chicken' : 1, 'Fish' : 2}\n",
    "print(type(inventory))"
   ]
  },
  {
   "cell_type": "code",
   "execution_count": 125,
   "metadata": {},
   "outputs": [
    {
     "name": "stdout",
     "output_type": "stream",
     "text": [
      "dict_keys(['Rice', 'Chicken', 'Fish'])\n",
      "dict_values([0.7, 1.2, 2.2])\n",
      "dict_items([('Rice', 0.7), ('Chicken', 1.2), ('Fish', 2.2)])\n",
      "3\n"
     ]
    }
   ],
   "source": [
    "print(inventory.keys())\n",
    "print(inventory.values())\n",
    "print(inventory.items())\n",
    "print(len(inventory.items()))"
   ]
  },
  {
   "cell_type": "code",
   "execution_count": 113,
   "metadata": {},
   "outputs": [
    {
     "data": {
      "text/plain": [
       "0.5"
      ]
     },
     "execution_count": 113,
     "metadata": {},
     "output_type": "execute_result"
    }
   ],
   "source": [
    "inventory['Rice']"
   ]
  },
  {
   "cell_type": "code",
   "execution_count": 114,
   "metadata": {},
   "outputs": [],
   "source": [
    "for u,v in inventory.items() :\n",
    "    inventory[u] += 0.2"
   ]
  },
  {
   "cell_type": "code",
   "execution_count": 115,
   "metadata": {},
   "outputs": [
    {
     "data": {
      "text/plain": [
       "dict_items([('Rice', 0.7), ('Chicken', 1.2), ('Fish', 2.2)])"
      ]
     },
     "execution_count": 115,
     "metadata": {},
     "output_type": "execute_result"
    }
   ],
   "source": [
    "inventory.items()"
   ]
  },
  {
   "cell_type": "code",
   "execution_count": 116,
   "metadata": {},
   "outputs": [
    {
     "name": "stdout",
     "output_type": "stream",
     "text": [
      "{'Rice': 0.7, 'Chicken': 1.2}\n"
     ]
    }
   ],
   "source": [
    "del(inventory['Fish'])\n",
    "print(inventory)"
   ]
  },
  {
   "cell_type": "code",
   "execution_count": 118,
   "metadata": {},
   "outputs": [
    {
     "name": "stdout",
     "output_type": "stream",
     "text": [
      "{'Rice': 0.7, 'Chicken': 1.2, 'Fish': 2.2}\n"
     ]
    }
   ],
   "source": [
    "inventory['Fish'] = 2.2\n",
    "print(inventory)"
   ]
  },
  {
   "cell_type": "code",
   "execution_count": 127,
   "metadata": {},
   "outputs": [],
   "source": [
    "#List of dictionary\n",
    "people = [{'Name' : 'Chris', 'Sex' : 'Male', 'Age' : 24},\n",
    "         {'Name' : 'Jeremy', 'Sex' : 'Male', 'Age' : 26}]"
   ]
  },
  {
   "cell_type": "code",
   "execution_count": 131,
   "metadata": {},
   "outputs": [
    {
     "name": "stdout",
     "output_type": "stream",
     "text": [
      "<class 'list'>\n",
      "2\n",
      "<class 'dict'>\n",
      "3\n",
      "Chris\n"
     ]
    }
   ],
   "source": [
    "print(type(people))\n",
    "print(len(people))\n",
    "print(type(people[0]))\n",
    "print(len(people[0]))\n",
    "print(people[0][\"Name\"])"
   ]
  },
  {
   "cell_type": "markdown",
   "metadata": {},
   "source": [
    "## Boolean & if statements"
   ]
  },
  {
   "cell_type": "code",
   "execution_count": 135,
   "metadata": {},
   "outputs": [
    {
     "name": "stdout",
     "output_type": "stream",
     "text": [
      "True\n",
      "False\n",
      "True\n",
      "False\n",
      "True\n"
     ]
    }
   ],
   "source": [
    "print(True & True)\n",
    "print(True & False)\n",
    "print(True | False)\n",
    "print(False | False)\n",
    "print(True & (True | False))"
   ]
  },
  {
   "cell_type": "code",
   "execution_count": 136,
   "metadata": {},
   "outputs": [
    {
     "name": "stdout",
     "output_type": "stream",
     "text": [
      "False\n",
      "True\n",
      "False\n"
     ]
    }
   ],
   "source": [
    "x = 5\n",
    "print(x > 7)\n",
    "print(x == 5)\n",
    "print (x <= 3)"
   ]
  },
  {
   "cell_type": "code",
   "execution_count": 139,
   "metadata": {},
   "outputs": [
    {
     "name": "stdout",
     "output_type": "stream",
     "text": [
      "Third statement gets printed\n"
     ]
    }
   ],
   "source": [
    "if True :\n",
    "    print('First statement gets printed')\n",
    "elif True:\n",
    "    print('Second statement gets printed')\n",
    "else :\n",
    "    print('Third statement gets printed')"
   ]
  },
  {
   "cell_type": "code",
   "execution_count": 152,
   "metadata": {},
   "outputs": [
    {
     "name": "stdout",
     "output_type": "stream",
     "text": [
      "5\n",
      "Buzz\n"
     ]
    }
   ],
   "source": [
    "#Fizzbuzz\n",
    "n=int(input())\n",
    "if (n % 3 == 0) & (n % 5 != 0) :\n",
    "    print(\"Fizz\")\n",
    "elif (n % 3 != 0) & (n % 5 == 0) :\n",
    "    print(\"Buzz\")\n",
    "elif (n % 3 == 0) & (n % 5 == 0) :\n",
    "    print (\"FizzBuzz\")\n",
    "else:\n",
    "    print('Nope')"
   ]
  },
  {
   "cell_type": "code",
   "execution_count": 165,
   "metadata": {},
   "outputs": [
    {
     "name": "stdout",
     "output_type": "stream",
     "text": [
      "2\n",
      "Try a larger number\n"
     ]
    }
   ],
   "source": [
    "#Membership\n",
    "n = int(input())\n",
    "numbers = [5,6,7,10]\n",
    "if n in numbers :\n",
    "    print (f'{n} is inside')\n",
    "elif n not in numbers :\n",
    "    if n > max(numbers) :\n",
    "        print('Try a smaller number')\n",
    "    elif n < min(numbers) :\n",
    "        print('Try a larger number')\n",
    "    else :\n",
    "        print('Try again')"
   ]
  },
  {
   "cell_type": "code",
   "execution_count": 167,
   "metadata": {},
   "outputs": [
    {
     "name": "stdout",
     "output_type": "stream",
     "text": [
      "[1, 4, 9]\n"
     ]
    }
   ],
   "source": [
    "#List comprehension with logic\n",
    "#Only want to square the numbers belonging to numbers_list that are less than 5\n",
    "numbers_list = [1, 2, 3, 6, 7, 10, 12]\n",
    "numbers_sq = [num ** 2 for num in numbers_list if num < 5]\n",
    "print(numbers_sq)"
   ]
  },
  {
   "cell_type": "code",
   "execution_count": 181,
   "metadata": {},
   "outputs": [
    {
     "name": "stdout",
     "output_type": "stream",
     "text": [
      "0\n",
      "2\n",
      "4\n",
      "6\n",
      "8\n",
      "10\n",
      "12\n",
      "14\n",
      "16\n",
      "18\n",
      "20\n",
      "22\n"
     ]
    }
   ],
   "source": [
    "for i in range(0, 100, 2) :\n",
    "    print(i)\n",
    "    if i > 20 :\n",
    "        break"
   ]
  },
  {
   "cell_type": "markdown",
   "metadata": {},
   "source": [
    "## While loop"
   ]
  },
  {
   "cell_type": "code",
   "execution_count": 197,
   "metadata": {},
   "outputs": [
    {
     "name": "stdout",
     "output_type": "stream",
     "text": [
      "0\n",
      "1\n",
      "2\n",
      "3\n",
      "4\n",
      "5\n"
     ]
    }
   ],
   "source": [
    "is_small = True\n",
    "count = 0\n",
    "while is_small :\n",
    "    print(count)\n",
    "    count += 1\n",
    "    if count > 5 :\n",
    "        is_small = False"
   ]
  },
  {
   "cell_type": "code",
   "execution_count": 198,
   "metadata": {},
   "outputs": [
    {
     "name": "stdout",
     "output_type": "stream",
     "text": [
      "Count : 0\n",
      "Count : 1\n",
      "Count : 2\n",
      "Count : 3\n",
      "Count : 4\n",
      "Count : 5\n",
      "Count : 6\n",
      "Count : 7\n",
      "Count : 8\n",
      "Count : 9\n",
      "Count : 10\n"
     ]
    }
   ],
   "source": [
    "count = 0\n",
    "while count <= 10: #Keeps running as long as it's True\n",
    "    print(f'Count : {count}')\n",
    "    count += 1"
   ]
  },
  {
   "cell_type": "markdown",
   "metadata": {},
   "source": [
    "## Functions"
   ]
  },
  {
   "cell_type": "code",
   "execution_count": 182,
   "metadata": {},
   "outputs": [],
   "source": [
    "def add_nums(x, y) :\n",
    "    total = x + y\n",
    "    return total\n",
    "\n",
    "num = add_nums(1, 3)"
   ]
  },
  {
   "cell_type": "code",
   "execution_count": 183,
   "metadata": {},
   "outputs": [
    {
     "name": "stdout",
     "output_type": "stream",
     "text": [
      "4\n"
     ]
    }
   ],
   "source": [
    "print(num)"
   ]
  },
  {
   "cell_type": "code",
   "execution_count": 174,
   "metadata": {},
   "outputs": [],
   "source": [
    "#For each number on the list, print a new list whereby each element is multiplied by 3. Lastly, return the summation of the numbers in the new list\n",
    "\n",
    "def myFunc(numbers) :\n",
    "    new_numbers = []\n",
    "    for i in numbers :\n",
    "        new_numbers.append(i * 3)\n",
    "    print(new_numbers)\n",
    "    sum_num = 0\n",
    "    for num in new_numbers :\n",
    "        sum_num += num\n",
    "        return sum_num"
   ]
  },
  {
   "cell_type": "code",
   "execution_count": 176,
   "metadata": {},
   "outputs": [
    {
     "name": "stdout",
     "output_type": "stream",
     "text": [
      "[30, 60, 90, 120]\n",
      "30\n"
     ]
    }
   ],
   "source": [
    "number_list = [10, 20, 30, 40]\n",
    "sum_num = myFunc(number_list)\n",
    "print(sum_num)"
   ]
  },
  {
   "cell_type": "code",
   "execution_count": 195,
   "metadata": {},
   "outputs": [
    {
     "name": "stdout",
     "output_type": "stream",
     "text": [
      "John is number 5 on the list\n"
     ]
    }
   ],
   "source": [
    "#Find John in the list using while loop\n",
    "def find_name(name_list, name) :\n",
    "    i = 0\n",
    "    while name_list[i] != 'John' :\n",
    "        i += 1\n",
    "\n",
    "    print(f'John is number {i+1} on the list')\n",
    "\n",
    "names = ['Chris', 'Jeremy', 'Matthew', 'Oliver', 'John', 'Mayor', 'Simon']\n",
    "find_name(names, 'John' )"
   ]
  },
  {
   "cell_type": "code",
   "execution_count": 214,
   "metadata": {},
   "outputs": [
    {
     "data": {
      "text/plain": [
       "'Christopher'"
      ]
     },
     "execution_count": 214,
     "metadata": {},
     "output_type": "execute_result"
    }
   ],
   "source": [
    "#Suppose we want to write a function so simple that it's not worth giving it a name\n",
    "s = lambda x : x.split(' ')[0] #lambda input : expression using input\n",
    "s('Christopher Mok')"
   ]
  },
  {
   "cell_type": "code",
   "execution_count": 213,
   "metadata": {},
   "outputs": [
    {
     "data": {
      "text/plain": [
       "18"
      ]
     },
     "execution_count": 213,
     "metadata": {},
     "output_type": "execute_result"
    }
   ],
   "source": [
    "def build_quadratic_function(a, b, c) :\n",
    "    \"\"\"returns the function f(x) = ax2 + bx + c\"\"\"\n",
    "    return lambda x : a*x**2 + b*x + c\n",
    "\n",
    "f = build_quadratic_function(2, 3, 4)\n",
    "f(2)"
   ]
  },
  {
   "cell_type": "markdown",
   "metadata": {},
   "source": [
    "## Others"
   ]
  },
  {
   "cell_type": "code",
   "execution_count": 1,
   "metadata": {},
   "outputs": [],
   "source": [
    "A = [1, 2, 3, \"John\", 5]\n"
   ]
  },
  {
   "cell_type": "code",
   "execution_count": 3,
   "metadata": {},
   "outputs": [
    {
     "ename": "TypeError",
     "evalue": "unsupported operand type(s) for ** or pow(): 'str' and 'int'",
     "output_type": "error",
     "traceback": [
      "\u001b[1;31m---------------------------------------------------------------------------\u001b[0m",
      "\u001b[1;31mTypeError\u001b[0m                                 Traceback (most recent call last)",
      "\u001b[1;32m<ipython-input-3-e50ada6a3dd4>\u001b[0m in \u001b[0;36m<module>\u001b[1;34m\u001b[0m\n\u001b[0;32m      1\u001b[0m \u001b[0mB\u001b[0m \u001b[1;33m=\u001b[0m \u001b[1;33m[\u001b[0m\u001b[1;33m]\u001b[0m\u001b[1;33m\u001b[0m\u001b[1;33m\u001b[0m\u001b[0m\n\u001b[0;32m      2\u001b[0m \u001b[1;32mfor\u001b[0m \u001b[0mi\u001b[0m \u001b[1;32min\u001b[0m \u001b[0mA\u001b[0m \u001b[1;33m:\u001b[0m\u001b[1;33m\u001b[0m\u001b[1;33m\u001b[0m\u001b[0m\n\u001b[1;32m----> 3\u001b[1;33m     \u001b[0mB\u001b[0m\u001b[1;33m.\u001b[0m\u001b[0mappend\u001b[0m\u001b[1;33m(\u001b[0m\u001b[0mi\u001b[0m \u001b[1;33m**\u001b[0m \u001b[1;36m2\u001b[0m\u001b[1;33m)\u001b[0m\u001b[1;33m\u001b[0m\u001b[1;33m\u001b[0m\u001b[0m\n\u001b[0m\u001b[0;32m      4\u001b[0m \u001b[0mprint\u001b[0m\u001b[1;33m(\u001b[0m\u001b[0mB\u001b[0m\u001b[1;33m)\u001b[0m\u001b[1;33m\u001b[0m\u001b[1;33m\u001b[0m\u001b[0m\n",
      "\u001b[1;31mTypeError\u001b[0m: unsupported operand type(s) for ** or pow(): 'str' and 'int'"
     ]
    }
   ],
   "source": [
    "B = []\n",
    "for i in A :\n",
    "    B.append(i ** 2)\n",
    "print(B)"
   ]
  },
  {
   "cell_type": "code",
   "execution_count": 4,
   "metadata": {},
   "outputs": [
    {
     "name": "stdout",
     "output_type": "stream",
     "text": [
      "[1, 4, 9, 25]\n"
     ]
    }
   ],
   "source": [
    "B = []\n",
    "for i in A :\n",
    "    try : \n",
    "        B.append(i ** 2)\n",
    "    except Exception as e:\n",
    "        pass\n",
    "print(B)"
   ]
  },
  {
   "cell_type": "code",
   "execution_count": 5,
   "metadata": {},
   "outputs": [],
   "source": [
    "import pickle\n",
    "\n",
    "with open('useful_list', 'wb') as f:\n",
    "    pickle.dump(A, f)  "
   ]
  },
  {
   "cell_type": "code",
   "execution_count": null,
   "metadata": {},
   "outputs": [],
   "source": []
  }
 ],
 "metadata": {
  "kernelspec": {
   "display_name": "Python 3",
   "language": "python",
   "name": "python3"
  },
  "language_info": {
   "codemirror_mode": {
    "name": "ipython",
    "version": 3
   },
   "file_extension": ".py",
   "mimetype": "text/x-python",
   "name": "python",
   "nbconvert_exporter": "python",
   "pygments_lexer": "ipython3",
   "version": "3.7.3"
  }
 },
 "nbformat": 4,
 "nbformat_minor": 4
}
