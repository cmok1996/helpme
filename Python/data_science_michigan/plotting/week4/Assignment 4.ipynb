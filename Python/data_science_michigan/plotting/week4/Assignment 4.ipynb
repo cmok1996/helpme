{
 "cells": [
  {
   "cell_type": "code",
   "execution_count": 1,
   "metadata": {},
   "outputs": [],
   "source": [
    "import pandas as pd\n",
    "import numpy as np\n",
    "import matplotlib.pyplot as plt\n",
    "import seaborn as sns\n",
    "import datetime as dt"
   ]
  },
  {
   "cell_type": "code",
   "execution_count": 2,
   "metadata": {},
   "outputs": [
    {
     "data": {
      "text/html": [
       "<div>\n",
       "<style scoped>\n",
       "    .dataframe tbody tr th:only-of-type {\n",
       "        vertical-align: middle;\n",
       "    }\n",
       "\n",
       "    .dataframe tbody tr th {\n",
       "        vertical-align: top;\n",
       "    }\n",
       "\n",
       "    .dataframe thead th {\n",
       "        text-align: right;\n",
       "    }\n",
       "</style>\n",
       "<table border=\"1\" class=\"dataframe\">\n",
       "  <thead>\n",
       "    <tr style=\"text-align: right;\">\n",
       "      <th></th>\n",
       "      <th>Variables</th>\n",
       "      <th>Total</th>\n",
       "      <th>Restaurants</th>\n",
       "      <th>Fast Food Outlets</th>\n",
       "      <th>Food Caterers</th>\n",
       "      <th>Cafes, Food Courts &amp; Other Eating Places *</th>\n",
       "    </tr>\n",
       "  </thead>\n",
       "  <tbody>\n",
       "    <tr>\n",
       "      <th>0</th>\n",
       "      <td>1985 Jan</td>\n",
       "      <td>74.682</td>\n",
       "      <td>93.485</td>\n",
       "      <td>25.772</td>\n",
       "      <td>na</td>\n",
       "      <td>87.270</td>\n",
       "    </tr>\n",
       "    <tr>\n",
       "      <th>1</th>\n",
       "      <td>1985 Feb</td>\n",
       "      <td>75.819</td>\n",
       "      <td>98.704</td>\n",
       "      <td>28.303</td>\n",
       "      <td>na</td>\n",
       "      <td>80.653</td>\n",
       "    </tr>\n",
       "    <tr>\n",
       "      <th>2</th>\n",
       "      <td>1985 Mar</td>\n",
       "      <td>76.388</td>\n",
       "      <td>90.648</td>\n",
       "      <td>30.364</td>\n",
       "      <td>na</td>\n",
       "      <td>93.570</td>\n",
       "    </tr>\n",
       "    <tr>\n",
       "      <th>3</th>\n",
       "      <td>1985 Apr</td>\n",
       "      <td>66.721</td>\n",
       "      <td>77.828</td>\n",
       "      <td>26.006</td>\n",
       "      <td>na</td>\n",
       "      <td>84.328</td>\n",
       "    </tr>\n",
       "    <tr>\n",
       "      <th>4</th>\n",
       "      <td>1985 May</td>\n",
       "      <td>70.417</td>\n",
       "      <td>82.594</td>\n",
       "      <td>27.037</td>\n",
       "      <td>na</td>\n",
       "      <td>88.529</td>\n",
       "    </tr>\n",
       "  </tbody>\n",
       "</table>\n",
       "</div>"
      ],
      "text/plain": [
       "   Variables    Total        Restaurants        Fast Food Outlets   \\\n",
       "0   1985 Jan    74.682             93.485                   25.772   \n",
       "1   1985 Feb    75.819             98.704                   28.303   \n",
       "2   1985 Mar    76.388             90.648                   30.364   \n",
       "3   1985 Apr    66.721             77.828                   26.006   \n",
       "4   1985 May    70.417             82.594                   27.037   \n",
       "\n",
       "       Food Caterers        Cafes, Food Courts & Other Eating Places *   \n",
       "0                 na                                             87.270  \n",
       "1                 na                                             80.653  \n",
       "2                 na                                             93.570  \n",
       "3                 na                                             84.328  \n",
       "4                 na                                             88.529  "
      ]
     },
     "execution_count": 2,
     "metadata": {},
     "output_type": "execute_result"
    }
   ],
   "source": [
    "fsi = pd.read_csv(\"fsi.csv\")\n",
    "fsi.head()"
   ]
  },
  {
   "cell_type": "code",
   "execution_count": 3,
   "metadata": {},
   "outputs": [
    {
     "data": {
      "text/plain": [
       "Index(['Date', 'Total', 'Restaurants', 'Fast Food Outlets', 'Food Caterers',\n",
       "       'Cafes, Food Courts & Other Eating Places *'],\n",
       "      dtype='object')"
      ]
     },
     "execution_count": 3,
     "metadata": {},
     "output_type": "execute_result"
    }
   ],
   "source": [
    "fsi.rename(columns = {fsi.columns[0] : \"Date\"}, inplace=True)\n",
    "fsi.columns = fsi.columns.str.strip()\n",
    "fsi.columns"
   ]
  },
  {
   "cell_type": "code",
   "execution_count": 4,
   "metadata": {},
   "outputs": [
    {
     "name": "stdout",
     "output_type": "stream",
     "text": [
      "<class 'pandas.core.frame.DataFrame'>\n",
      "RangeIndex: 430 entries, 0 to 429\n",
      "Data columns (total 6 columns):\n",
      " #   Column                                      Non-Null Count  Dtype         \n",
      "---  ------                                      --------------  -----         \n",
      " 0   Date                                        430 non-null    datetime64[ns]\n",
      " 1   Total                                       430 non-null    float64       \n",
      " 2   Restaurants                                 430 non-null    float64       \n",
      " 3   Fast Food Outlets                           430 non-null    float64       \n",
      " 4   Food Caterers                               430 non-null    object        \n",
      " 5   Cafes, Food Courts & Other Eating Places *  430 non-null    float64       \n",
      "dtypes: datetime64[ns](1), float64(4), object(1)\n",
      "memory usage: 20.3+ KB\n"
     ]
    }
   ],
   "source": [
    "fsi[\"Date\"] = pd.to_datetime(fsi.Date)\n",
    "fsi.info()"
   ]
  },
  {
   "cell_type": "code",
   "execution_count": 5,
   "metadata": {},
   "outputs": [],
   "source": [
    "fsi.set_index(\"Date\", inplace=True)\n",
    "fsi[\"Year\"] = fsi.index.year\n",
    "fsi[\"Month\"] = fsi.index.month\n",
    "fsi.index = fsi.index.to_period('M').to_timestamp('M')"
   ]
  },
  {
   "cell_type": "code",
   "execution_count": 6,
   "metadata": {},
   "outputs": [
    {
     "data": {
      "text/html": [
       "<div>\n",
       "<style scoped>\n",
       "    .dataframe tbody tr th:only-of-type {\n",
       "        vertical-align: middle;\n",
       "    }\n",
       "\n",
       "    .dataframe tbody tr th {\n",
       "        vertical-align: top;\n",
       "    }\n",
       "\n",
       "    .dataframe thead th {\n",
       "        text-align: right;\n",
       "    }\n",
       "</style>\n",
       "<table border=\"1\" class=\"dataframe\">\n",
       "  <thead>\n",
       "    <tr style=\"text-align: right;\">\n",
       "      <th></th>\n",
       "      <th>Total</th>\n",
       "      <th>Restaurants</th>\n",
       "      <th>Fast Food Outlets</th>\n",
       "      <th>Food Caterers</th>\n",
       "      <th>Cafes, Food Courts &amp; Other Eating Places *</th>\n",
       "      <th>Year</th>\n",
       "      <th>Month</th>\n",
       "    </tr>\n",
       "    <tr>\n",
       "      <th>Date</th>\n",
       "      <th></th>\n",
       "      <th></th>\n",
       "      <th></th>\n",
       "      <th></th>\n",
       "      <th></th>\n",
       "      <th></th>\n",
       "      <th></th>\n",
       "    </tr>\n",
       "  </thead>\n",
       "  <tbody>\n",
       "    <tr>\n",
       "      <th>1985-01-31</th>\n",
       "      <td>74.682</td>\n",
       "      <td>93.485</td>\n",
       "      <td>25.772</td>\n",
       "      <td>na</td>\n",
       "      <td>87.270</td>\n",
       "      <td>1985</td>\n",
       "      <td>1</td>\n",
       "    </tr>\n",
       "    <tr>\n",
       "      <th>1985-02-28</th>\n",
       "      <td>75.819</td>\n",
       "      <td>98.704</td>\n",
       "      <td>28.303</td>\n",
       "      <td>na</td>\n",
       "      <td>80.653</td>\n",
       "      <td>1985</td>\n",
       "      <td>2</td>\n",
       "    </tr>\n",
       "    <tr>\n",
       "      <th>1985-03-31</th>\n",
       "      <td>76.388</td>\n",
       "      <td>90.648</td>\n",
       "      <td>30.364</td>\n",
       "      <td>na</td>\n",
       "      <td>93.570</td>\n",
       "      <td>1985</td>\n",
       "      <td>3</td>\n",
       "    </tr>\n",
       "    <tr>\n",
       "      <th>1985-04-30</th>\n",
       "      <td>66.721</td>\n",
       "      <td>77.828</td>\n",
       "      <td>26.006</td>\n",
       "      <td>na</td>\n",
       "      <td>84.328</td>\n",
       "      <td>1985</td>\n",
       "      <td>4</td>\n",
       "    </tr>\n",
       "    <tr>\n",
       "      <th>1985-05-31</th>\n",
       "      <td>70.417</td>\n",
       "      <td>82.594</td>\n",
       "      <td>27.037</td>\n",
       "      <td>na</td>\n",
       "      <td>88.529</td>\n",
       "      <td>1985</td>\n",
       "      <td>5</td>\n",
       "    </tr>\n",
       "  </tbody>\n",
       "</table>\n",
       "</div>"
      ],
      "text/plain": [
       "             Total  Restaurants  Fast Food Outlets Food Caterers  \\\n",
       "Date                                                               \n",
       "1985-01-31  74.682       93.485             25.772           na    \n",
       "1985-02-28  75.819       98.704             28.303           na    \n",
       "1985-03-31  76.388       90.648             30.364           na    \n",
       "1985-04-30  66.721       77.828             26.006           na    \n",
       "1985-05-31  70.417       82.594             27.037           na    \n",
       "\n",
       "            Cafes, Food Courts & Other Eating Places *  Year  Month  \n",
       "Date                                                                 \n",
       "1985-01-31                                      87.270  1985      1  \n",
       "1985-02-28                                      80.653  1985      2  \n",
       "1985-03-31                                      93.570  1985      3  \n",
       "1985-04-30                                      84.328  1985      4  \n",
       "1985-05-31                                      88.529  1985      5  "
      ]
     },
     "execution_count": 6,
     "metadata": {},
     "output_type": "execute_result"
    }
   ],
   "source": [
    "fsi.head()"
   ]
  },
  {
   "cell_type": "code",
   "execution_count": 7,
   "metadata": {},
   "outputs": [
    {
     "data": {
      "text/html": [
       "<div>\n",
       "<style scoped>\n",
       "    .dataframe tbody tr th:only-of-type {\n",
       "        vertical-align: middle;\n",
       "    }\n",
       "\n",
       "    .dataframe tbody tr th {\n",
       "        vertical-align: top;\n",
       "    }\n",
       "\n",
       "    .dataframe thead th {\n",
       "        text-align: right;\n",
       "    }\n",
       "</style>\n",
       "<table border=\"1\" class=\"dataframe\">\n",
       "  <thead>\n",
       "    <tr style=\"text-align: right;\">\n",
       "      <th></th>\n",
       "      <th>Total</th>\n",
       "      <th>Restaurants</th>\n",
       "      <th>Fast Food Outlets</th>\n",
       "      <th>Food Caterers</th>\n",
       "      <th>Cafes, Food Courts &amp; Other Eating Places *</th>\n",
       "      <th>Year</th>\n",
       "      <th>Month</th>\n",
       "    </tr>\n",
       "    <tr>\n",
       "      <th>Date</th>\n",
       "      <th></th>\n",
       "      <th></th>\n",
       "      <th></th>\n",
       "      <th></th>\n",
       "      <th></th>\n",
       "      <th></th>\n",
       "      <th></th>\n",
       "    </tr>\n",
       "  </thead>\n",
       "  <tbody>\n",
       "    <tr>\n",
       "      <th>2020-01-31</th>\n",
       "      <td>107.235</td>\n",
       "      <td>111.156</td>\n",
       "      <td>121.896</td>\n",
       "      <td>105.812</td>\n",
       "      <td>100.549</td>\n",
       "      <td>2020</td>\n",
       "      <td>1</td>\n",
       "    </tr>\n",
       "    <tr>\n",
       "      <th>2020-02-29</th>\n",
       "      <td>82.687</td>\n",
       "      <td>73.692</td>\n",
       "      <td>107.451</td>\n",
       "      <td>66.137</td>\n",
       "      <td>87.956</td>\n",
       "      <td>2020</td>\n",
       "      <td>2</td>\n",
       "    </tr>\n",
       "    <tr>\n",
       "      <th>2020-03-31</th>\n",
       "      <td>78.192</td>\n",
       "      <td>63.697</td>\n",
       "      <td>111.125</td>\n",
       "      <td>37.932</td>\n",
       "      <td>91.492</td>\n",
       "      <td>2020</td>\n",
       "      <td>3</td>\n",
       "    </tr>\n",
       "    <tr>\n",
       "      <th>2020-04-30</th>\n",
       "      <td>46.194</td>\n",
       "      <td>26.755</td>\n",
       "      <td>78.331</td>\n",
       "      <td>36.166</td>\n",
       "      <td>57.110</td>\n",
       "      <td>2020</td>\n",
       "      <td>4</td>\n",
       "    </tr>\n",
       "    <tr>\n",
       "      <th>2020-05-31</th>\n",
       "      <td>48.031</td>\n",
       "      <td>30.494</td>\n",
       "      <td>81.257</td>\n",
       "      <td>51.478</td>\n",
       "      <td>54.019</td>\n",
       "      <td>2020</td>\n",
       "      <td>5</td>\n",
       "    </tr>\n",
       "  </tbody>\n",
       "</table>\n",
       "</div>"
      ],
      "text/plain": [
       "              Total  Restaurants  Fast Food Outlets Food Caterers  \\\n",
       "Date                                                                \n",
       "2020-01-31  107.235      111.156            121.896       105.812   \n",
       "2020-02-29   82.687       73.692            107.451        66.137   \n",
       "2020-03-31   78.192       63.697            111.125        37.932   \n",
       "2020-04-30   46.194       26.755             78.331        36.166   \n",
       "2020-05-31   48.031       30.494             81.257        51.478   \n",
       "\n",
       "            Cafes, Food Courts & Other Eating Places *  Year  Month  \n",
       "Date                                                                 \n",
       "2020-01-31                                     100.549  2020      1  \n",
       "2020-02-29                                      87.956  2020      2  \n",
       "2020-03-31                                      91.492  2020      3  \n",
       "2020-04-30                                      57.110  2020      4  \n",
       "2020-05-31                                      54.019  2020      5  "
      ]
     },
     "execution_count": 7,
     "metadata": {},
     "output_type": "execute_result"
    }
   ],
   "source": [
    "normal_df = fsi['2015-1-1' : '2019-12-31']\n",
    "covid_df = fsi['2020-1-1' :]\n",
    "covid_df.head()"
   ]
  },
  {
   "cell_type": "code",
   "execution_count": 8,
   "metadata": {},
   "outputs": [
    {
     "name": "stderr",
     "output_type": "stream",
     "text": [
      "C:\\Users\\cmok1\\Anaconda3\\lib\\site-packages\\ipykernel_launcher.py:1: SettingWithCopyWarning: \n",
      "A value is trying to be set on a copy of a slice from a DataFrame.\n",
      "Try using .loc[row_indexer,col_indexer] = value instead\n",
      "\n",
      "See the caveats in the documentation: https://pandas.pydata.org/pandas-docs/stable/user_guide/indexing.html#returning-a-view-versus-a-copy\n",
      "  \"\"\"Entry point for launching an IPython kernel.\n",
      "C:\\Users\\cmok1\\Anaconda3\\lib\\site-packages\\ipykernel_launcher.py:2: SettingWithCopyWarning: \n",
      "A value is trying to be set on a copy of a slice from a DataFrame.\n",
      "Try using .loc[row_indexer,col_indexer] = value instead\n",
      "\n",
      "See the caveats in the documentation: https://pandas.pydata.org/pandas-docs/stable/user_guide/indexing.html#returning-a-view-versus-a-copy\n",
      "  \n"
     ]
    }
   ],
   "source": [
    "normal_df[\"Food Caterers\"] = pd.to_numeric(normal_df[\"Food Caterers\"])\n",
    "covid_df[\"Food Caterers\"] = pd.to_numeric(covid_df[\"Food Caterers\"])"
   ]
  },
  {
   "cell_type": "code",
   "execution_count": 11,
   "metadata": {},
   "outputs": [],
   "source": [
    "normal_fsi = normal_df.groupby('Month').mean()\n",
    "covid_fsi = covid_df.groupby('Month').mean()"
   ]
  },
  {
   "cell_type": "code",
   "execution_count": 12,
   "metadata": {},
   "outputs": [],
   "source": [
    "normal_fsi.columns = normal_fsi.columns.str.strip()\n",
    "covid_fsi.columns = covid_fsi.columns.str.strip()"
   ]
  },
  {
   "cell_type": "code",
   "execution_count": 13,
   "metadata": {},
   "outputs": [],
   "source": [
    "covid_fsi.reset_index(inplace=True)"
   ]
  },
  {
   "cell_type": "code",
   "execution_count": 14,
   "metadata": {},
   "outputs": [],
   "source": [
    "normal_fsi.reset_index(inplace=True)"
   ]
  },
  {
   "cell_type": "code",
   "execution_count": 15,
   "metadata": {},
   "outputs": [],
   "source": [
    "normal_fsi[\"Date\"] = pd.to_datetime('2020-' + normal_fsi.Month.astype(int).astype(str) + '-1', format = '%Y-%m')\n",
    "covid_fsi[\"Date\"] = pd.to_datetime('2020-' + covid_fsi.Month.astype(int).astype(str) + '-1', format = '%Y-%m')"
   ]
  },
  {
   "cell_type": "code",
   "execution_count": 16,
   "metadata": {},
   "outputs": [],
   "source": [
    "normal_fsi.set_index(\"Date\", inplace=True)\n",
    "covid_fsi.set_index(\"Date\", inplace=True)\n",
    "# normal_fsi.index = normal_fsi.index.to_period('M').to_timestamp('M')\n",
    "# covid_fsi.index = covid_fsi.index.to_period('M').to_timestamp('M')"
   ]
  },
  {
   "cell_type": "code",
   "execution_count": 17,
   "metadata": {},
   "outputs": [
    {
     "data": {
      "text/plain": [
       "134                          New Year's Day\n",
       "135                               Thaipusam\n",
       "136            Chinese Lunar New Year's Day\n",
       "137    Second day of Chinese Lunar New Year\n",
       "138                         Valentine's Day\n",
       "139                       Total Defense Day\n",
       "140               International Women's Day\n",
       "141                           March Equinox\n",
       "142                        April Fool's Day\n",
       "143                             Good Friday\n",
       "144                         Easter Saturday\n",
       "145                           Easter Sunday\n",
       "146                              Labour Day\n",
       "147                            Mother's Day\n",
       "148                International Museum Day\n",
       "149                               Vesak Day\n",
       "150                      Vesak Day observed\n",
       "151                         Hari Raya Puasa\n",
       "152                            Father's Day\n",
       "153                           June Solstice\n",
       "154              Singapore Armed Forces Day\n",
       "155                      Racial Harmony Day\n",
       "156                            National Day\n",
       "157                          Hari Raya Haji\n",
       "158                 Hari Raya Haji observed\n",
       "159                       September Equinox\n",
       "160                          Children's Day\n",
       "161                        Diwali/Deepavali\n",
       "162               Diwali/Deepavali observed\n",
       "163                       December Solstice\n",
       "164                           Christmas Eve\n",
       "165                           Christmas Day\n",
       "166                          New Year's Eve\n",
       "Name: Name, dtype: object"
      ]
     },
     "execution_count": 17,
     "metadata": {},
     "output_type": "execute_result"
    }
   ],
   "source": [
    "#Load calendar data\n",
    "holidays = pd.read_csv(\"holidays.csv\")\n",
    "holidays = holidays.loc[holidays[\"Year\"] == 2019]\n",
    "holidays[\"Date\"] = holidays[\"Date\"] + '-' + holidays['Year'].astype('str')\n",
    "holidays[\"Name\"]"
   ]
  },
  {
   "cell_type": "code",
   "execution_count": 18,
   "metadata": {},
   "outputs": [
    {
     "data": {
      "text/html": [
       "<div>\n",
       "<style scoped>\n",
       "    .dataframe tbody tr th:only-of-type {\n",
       "        vertical-align: middle;\n",
       "    }\n",
       "\n",
       "    .dataframe tbody tr th {\n",
       "        vertical-align: top;\n",
       "    }\n",
       "\n",
       "    .dataframe thead th {\n",
       "        text-align: right;\n",
       "    }\n",
       "</style>\n",
       "<table border=\"1\" class=\"dataframe\">\n",
       "  <thead>\n",
       "    <tr style=\"text-align: right;\">\n",
       "      <th></th>\n",
       "      <th>Day</th>\n",
       "      <th>Name</th>\n",
       "      <th>Type</th>\n",
       "      <th>Year</th>\n",
       "      <th>Month</th>\n",
       "    </tr>\n",
       "    <tr>\n",
       "      <th>Date</th>\n",
       "      <th></th>\n",
       "      <th></th>\n",
       "      <th></th>\n",
       "      <th></th>\n",
       "      <th></th>\n",
       "    </tr>\n",
       "  </thead>\n",
       "  <tbody>\n",
       "    <tr>\n",
       "      <th>2019-01-01</th>\n",
       "      <td>Tuesday</td>\n",
       "      <td>New Year's Day</td>\n",
       "      <td>National holiday</td>\n",
       "      <td>2019</td>\n",
       "      <td>1</td>\n",
       "    </tr>\n",
       "    <tr>\n",
       "      <th>2019-01-21</th>\n",
       "      <td>Monday</td>\n",
       "      <td>Thaipusam</td>\n",
       "      <td>Observance</td>\n",
       "      <td>2019</td>\n",
       "      <td>1</td>\n",
       "    </tr>\n",
       "    <tr>\n",
       "      <th>2019-02-05</th>\n",
       "      <td>Tuesday</td>\n",
       "      <td>Chinese Lunar New Year's Day</td>\n",
       "      <td>National holiday</td>\n",
       "      <td>2019</td>\n",
       "      <td>2</td>\n",
       "    </tr>\n",
       "    <tr>\n",
       "      <th>2019-02-06</th>\n",
       "      <td>Wednesday</td>\n",
       "      <td>Second day of Chinese Lunar New Year</td>\n",
       "      <td>National holiday</td>\n",
       "      <td>2019</td>\n",
       "      <td>2</td>\n",
       "    </tr>\n",
       "    <tr>\n",
       "      <th>2019-02-14</th>\n",
       "      <td>Thursday</td>\n",
       "      <td>Valentine's Day</td>\n",
       "      <td>Observance</td>\n",
       "      <td>2019</td>\n",
       "      <td>2</td>\n",
       "    </tr>\n",
       "  </tbody>\n",
       "</table>\n",
       "</div>"
      ],
      "text/plain": [
       "                  Day                                  Name              Type  \\\n",
       "Date                                                                            \n",
       "2019-01-01    Tuesday                        New Year's Day  National holiday   \n",
       "2019-01-21     Monday                             Thaipusam        Observance   \n",
       "2019-02-05    Tuesday          Chinese Lunar New Year's Day  National holiday   \n",
       "2019-02-06  Wednesday  Second day of Chinese Lunar New Year  National holiday   \n",
       "2019-02-14   Thursday                       Valentine's Day        Observance   \n",
       "\n",
       "            Year  Month  \n",
       "Date                     \n",
       "2019-01-01  2019      1  \n",
       "2019-01-21  2019      1  \n",
       "2019-02-05  2019      2  \n",
       "2019-02-06  2019      2  \n",
       "2019-02-14  2019      2  "
      ]
     },
     "execution_count": 18,
     "metadata": {},
     "output_type": "execute_result"
    }
   ],
   "source": [
    "holidays[\"Date\"] = pd.to_datetime(holidays[\"Date\"])\n",
    "holidays.set_index(\"Date\", inplace=True)\n",
    "holidays[\"Month\"] = holidays.index.month\n",
    "holidays.head()"
   ]
  },
  {
   "cell_type": "code",
   "execution_count": 19,
   "metadata": {},
   "outputs": [
    {
     "data": {
      "text/plain": [
       "DatetimeIndex(['2019-02-05', '2019-04-21', '2019-05-19', '2019-08-11',\n",
       "               '2019-10-27', '2019-12-25'],\n",
       "              dtype='datetime64[ns]', name='Date', freq=None)"
      ]
     },
     "execution_count": 19,
     "metadata": {},
     "output_type": "execute_result"
    }
   ],
   "source": [
    "religious_holidays = [holidays[\"Name\"][2], holidays[\"Name\"][11], holidays[\"Name\"][15], holidays[\"Name\"][23], holidays[\"Name\"][27], holidays[\"Name\"][31]]\n",
    "religious_holidays_df = holidays.loc[holidays[\"Name\"].isin(religious_holidays)]\n",
    "religious_holidays_df.index"
   ]
  },
  {
   "cell_type": "code",
   "execution_count": 20,
   "metadata": {},
   "outputs": [
    {
     "data": {
      "text/html": [
       "<div>\n",
       "<style scoped>\n",
       "    .dataframe tbody tr th:only-of-type {\n",
       "        vertical-align: middle;\n",
       "    }\n",
       "\n",
       "    .dataframe tbody tr th {\n",
       "        vertical-align: top;\n",
       "    }\n",
       "\n",
       "    .dataframe thead th {\n",
       "        text-align: right;\n",
       "    }\n",
       "</style>\n",
       "<table border=\"1\" class=\"dataframe\">\n",
       "  <thead>\n",
       "    <tr style=\"text-align: right;\">\n",
       "      <th></th>\n",
       "      <th>Day</th>\n",
       "      <th>Name</th>\n",
       "      <th>Type</th>\n",
       "      <th>Year</th>\n",
       "      <th>Month</th>\n",
       "    </tr>\n",
       "    <tr>\n",
       "      <th>Date</th>\n",
       "      <th></th>\n",
       "      <th></th>\n",
       "      <th></th>\n",
       "      <th></th>\n",
       "      <th></th>\n",
       "    </tr>\n",
       "  </thead>\n",
       "  <tbody>\n",
       "    <tr>\n",
       "      <th>2020-02-05</th>\n",
       "      <td>Tuesday</td>\n",
       "      <td>Chinese Lunar New Year's Day</td>\n",
       "      <td>National holiday</td>\n",
       "      <td>2019</td>\n",
       "      <td>2</td>\n",
       "    </tr>\n",
       "    <tr>\n",
       "      <th>2020-04-20</th>\n",
       "      <td>Sunday</td>\n",
       "      <td>Easter Sunday</td>\n",
       "      <td>Observance</td>\n",
       "      <td>2019</td>\n",
       "      <td>4</td>\n",
       "    </tr>\n",
       "    <tr>\n",
       "      <th>2020-05-18</th>\n",
       "      <td>Sunday</td>\n",
       "      <td>Vesak Day</td>\n",
       "      <td>National holiday</td>\n",
       "      <td>2019</td>\n",
       "      <td>5</td>\n",
       "    </tr>\n",
       "    <tr>\n",
       "      <th>2020-08-10</th>\n",
       "      <td>Sunday</td>\n",
       "      <td>Hari Raya Haji</td>\n",
       "      <td>National holiday</td>\n",
       "      <td>2019</td>\n",
       "      <td>8</td>\n",
       "    </tr>\n",
       "    <tr>\n",
       "      <th>2020-10-26</th>\n",
       "      <td>Sunday</td>\n",
       "      <td>Diwali/Deepavali</td>\n",
       "      <td>National holiday</td>\n",
       "      <td>2019</td>\n",
       "      <td>10</td>\n",
       "    </tr>\n",
       "  </tbody>\n",
       "</table>\n",
       "</div>"
      ],
      "text/plain": [
       "                Day                          Name              Type  Year  \\\n",
       "Date                                                                        \n",
       "2020-02-05  Tuesday  Chinese Lunar New Year's Day  National holiday  2019   \n",
       "2020-04-20   Sunday                 Easter Sunday        Observance  2019   \n",
       "2020-05-18   Sunday                     Vesak Day  National holiday  2019   \n",
       "2020-08-10   Sunday                Hari Raya Haji  National holiday  2019   \n",
       "2020-10-26   Sunday              Diwali/Deepavali  National holiday  2019   \n",
       "\n",
       "            Month  \n",
       "Date               \n",
       "2020-02-05      2  \n",
       "2020-04-20      4  \n",
       "2020-05-18      5  \n",
       "2020-08-10      8  \n",
       "2020-10-26     10  "
      ]
     },
     "execution_count": 20,
     "metadata": {},
     "output_type": "execute_result"
    }
   ],
   "source": [
    "import datetime as dt\n",
    "religious_holidays_df.index = religious_holidays_df.index + dt.timedelta(days=365)\n",
    "religious_holidays_df.head()"
   ]
  },
  {
   "cell_type": "code",
   "execution_count": 21,
   "metadata": {},
   "outputs": [],
   "source": [
    "xticks = [ 'Jan', 'Feb', 'Mar', 'Apr', 'May', 'Jun', 'Jul', 'Aug', 'Sep', 'Oct', 'Nov', 'Dec']"
   ]
  },
  {
   "cell_type": "code",
   "execution_count": 22,
   "metadata": {},
   "outputs": [
    {
     "data": {
      "image/png": "[encoded data removed]",
      "text/plain": [
       "<Figure size 576x432 with 1 Axes>"
      ]
     },
     "metadata": {
      "needs_background": "light"
     },
     "output_type": "display_data"
    }
   ],
   "source": [
    "%matplotlib inline\n",
    "\n",
    "plt.figure(figsize = (8,6))\n",
    "\n",
    "plt.plot(normal_fsi[\"Food Caterers\"], '-', color=\"blue\", label = \"Average years\")\n",
    "plt.plot(covid_fsi[\"Food Caterers\"], '-', color = 'green', label = \"2020\")\n",
    "plt.axvline(x=religious_holidays_df.index[0], color='red', linestyle = \"--\", alpha = 0.5, label = \"Holiday\")\n",
    "for i in religious_holidays_df.index[1:]:\n",
    "    vert_line = plt.axvline(x=i, color='red', linestyle='--', alpha = 0.5);\n",
    "\n",
    "plt.xlabel(\"Month\")\n",
    "plt.ylabel(\"FSI Index (2017 = 100)\")\n",
    "plt.title(\"Effect of Religious Holidays on Monthly Food Catering Expenditure\")\n",
    "\n",
    "plt.legend(loc = 'lower right', frameon = False)\n",
    "\n",
    "\n",
    "plt.xticks(list(normal_fsi.index), xticks, rotation=45)\n",
    "ax = plt.gca()\n",
    "ax.spines['top'].set_visible(False)\n",
    "ax.spines['right'].set_visible(False)\n",
    "\n",
    "plt.show()"
   ]
  },
  {
   "cell_type": "code",
   "execution_count": null,
   "metadata": {},
   "outputs": [],
   "source": []
  },
  {
   "cell_type": "code",
   "execution_count": null,
   "metadata": {},
   "outputs": [],
   "source": []
  }
 ],
 "metadata": {
  "kernelspec": {
   "display_name": "Python 3",
   "language": "python",
   "name": "python3"
  },
  "language_info": {
   "codemirror_mode": {
    "name": "ipython",
    "version": 3
   },
   "file_extension": ".py",
   "mimetype": "text/x-python",
   "name": "python",
   "nbconvert_exporter": "python",
   "pygments_lexer": "ipython3",
   "version": "3.7.3"
  }
 },
 "nbformat": 4,
 "nbformat_minor": 4
}
